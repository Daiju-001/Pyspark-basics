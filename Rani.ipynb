{
 "cells": [
  {
   "cell_type": "code",
   "execution_count": 30,
   "id": "2815c22f",
   "metadata": {},
   "outputs": [
    {
     "name": "stdout",
     "output_type": "stream",
     "text": [
      "+-----+-------------------+----+\n",
      "|Seqno|Quote              |Year|\n",
      "+-----+-------------------+----+\n",
      "|1    |Be the Change      |1998|\n",
      "|2    |Time is Money      |1976|\n",
      "|3    |Be simple Be Higher|2001|\n",
      "|4    |Be cool            |2005|\n",
      "+-----+-------------------+----+\n",
      "\n"
     ]
    }
   ],
   "source": [
    "from pyspark.sql import SparkSession\n",
    "spark = SparkSession.builder.appName('Soumen').getOrCreate()\n",
    "\n",
    "columns = [\"Seqno\",\"Quote\",\"Year\"]\n",
    "data = [(\"1\",\"Be the Change\",\"1998\"),(\"2\",\"Time is Money\",\"1976\"),(\"3\",\"Be simple Be Higher\",\"2001\"),(\"4\",\"Be cool\",\"2005\")]\n",
    "\n",
    "df = spark.createDataFrame(data,columns)\n",
    "\n",
    "df.show(truncate=False) #Displaying full column contents"
   ]
  },
  {
   "cell_type": "code",
   "execution_count": 31,
   "id": "bb7cbac1",
   "metadata": {},
   "outputs": [
    {
     "name": "stdout",
     "output_type": "stream",
     "text": [
      "+-------------------+\n",
      "|Quote              |\n",
      "+-------------------+\n",
      "|Be the Change      |\n",
      "|Time is Money      |\n",
      "|Be simple Be Higher|\n",
      "|Be cool            |\n",
      "+-------------------+\n",
      "\n"
     ]
    }
   ],
   "source": [
    "df.select(\"Quote\").show(truncate=False) #showing particular columns"
   ]
  },
  {
   "cell_type": "code",
   "execution_count": 35,
   "id": "97218676",
   "metadata": {
    "scrolled": true
   },
   "outputs": [
    {
     "name": "stdout",
     "output_type": "stream",
     "text": [
      "+----+-----+\n",
      "|Year|Seqno|\n",
      "+----+-----+\n",
      "|1998|1    |\n",
      "|1976|2    |\n",
      "+----+-----+\n",
      "only showing top 2 rows\n",
      "\n"
     ]
    }
   ],
   "source": [
    "df.select(\"Year\",\"Seqno\").show(2,truncate=False)#showing two columns with 2 rows"
   ]
  },
  {
   "cell_type": "code",
   "execution_count": 39,
   "id": "b5ce7192",
   "metadata": {},
   "outputs": [
    {
     "name": "stdout",
     "output_type": "stream",
     "text": [
      "+-----+-------------------+\n",
      "|Seqno|              Quote|\n",
      "+-----+-------------------+\n",
      "|    1|      Be the Change|\n",
      "|    2|      Time is Money|\n",
      "|    3|Be simple Be Higher|\n",
      "|    4|            Be cool|\n",
      "+-----+-------------------+\n",
      "\n"
     ]
    }
   ],
   "source": [
    "df.drop(\"Year\").show() #dropping Year column"
   ]
  }
 ],
 "metadata": {
  "kernelspec": {
   "display_name": "Python 3",
   "language": "python",
   "name": "python3"
  },
  "language_info": {
   "codemirror_mode": {
    "name": "ipython",
    "version": 3
   },
   "file_extension": ".py",
   "mimetype": "text/x-python",
   "name": "python",
   "nbconvert_exporter": "python",
   "pygments_lexer": "ipython3",
   "version": "3.8.8"
  }
 },
 "nbformat": 4,
 "nbformat_minor": 5
}
